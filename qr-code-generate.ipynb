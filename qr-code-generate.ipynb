{
 "cells": [
  {
   "cell_type": "code",
   "execution_count": 1,
   "metadata": {},
   "outputs": [
    {
     "name": "stdout",
     "output_type": "stream",
     "text": [
      "Collecting qrcode[pil]\n",
      "  Downloading qrcode-8.0-py3-none-any.whl.metadata (17 kB)\n",
      "Requirement already satisfied: colorama in c:\\users\\ananz\\miniconda3\\envs\\ag\\lib\\site-packages (from qrcode[pil]) (0.4.6)\n",
      "Requirement already satisfied: pillow>=9.1.0 in c:\\users\\ananz\\miniconda3\\envs\\ag\\lib\\site-packages (from qrcode[pil]) (10.0.1)\n",
      "Downloading qrcode-8.0-py3-none-any.whl (45 kB)\n",
      "   ---------------------------------------- 0.0/45.7 kB ? eta -:--:--\n",
      "   ---------------------------------------- 45.7/45.7 kB 2.2 MB/s eta 0:00:00\n",
      "Installing collected packages: qrcode\n",
      "Successfully installed qrcode-8.0\n",
      "Note: you may need to restart the kernel to use updated packages.\n"
     ]
    }
   ],
   "source": [
    "pip install qrcode[pil]\n"
   ]
  },
  {
   "cell_type": "code",
   "execution_count": 3,
   "metadata": {},
   "outputs": [
    {
     "name": "stdout",
     "output_type": "stream",
     "text": [
      "QR code saved as qr_code.png\n"
     ]
    }
   ],
   "source": [
    "import qrcode\n",
    "\n",
    "def generate_qr(url, filename=\"qr_code.png\"):\n",
    "    # Create a QR code object\n",
    "    qr = qrcode.QRCode(\n",
    "        version=1,\n",
    "        error_correction=qrcode.constants.ERROR_CORRECT_L,\n",
    "        box_size=10,\n",
    "        border=4,\n",
    "    )\n",
    "    # Add the URL to the QR code\n",
    "    qr.add_data(url)\n",
    "    qr.make(fit=True)\n",
    "\n",
    "    # Create an image of the QR code\n",
    "    img = qr.make_image(fill=\"black\", back_color=\"white\")\n",
    "    # Save the image to a file\n",
    "    img.save(filename)\n",
    "    print(f\"QR code saved as {filename}\")\n",
    "\n",
    "# Example usage\n",
    "url = 'https://github.com/Chulinuwu'\n",
    "generate_qr(url)\n"
   ]
  }
 ],
 "metadata": {
  "kernelspec": {
   "display_name": "ag",
   "language": "python",
   "name": "python3"
  },
  "language_info": {
   "codemirror_mode": {
    "name": "ipython",
    "version": 3
   },
   "file_extension": ".py",
   "mimetype": "text/x-python",
   "name": "python",
   "nbconvert_exporter": "python",
   "pygments_lexer": "ipython3",
   "version": "3.10.13"
  }
 },
 "nbformat": 4,
 "nbformat_minor": 2
}
